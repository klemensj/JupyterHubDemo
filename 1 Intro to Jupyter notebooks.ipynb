{
 "cells": [
  {
   "cell_type": "markdown",
   "metadata": {},
   "source": [
    "<div align =\"right\">Thomas Jefferson University **COMP 101**: Coding for beginners</div>"
   ]
  },
  {
   "cell_type": "markdown",
   "metadata": {
    "deletable": false,
    "editable": false
   },
   "source": [
    "# Assignment 1 Intro to Jupyter Notebooks\n",
    "\n",
    "You will be submitting your assignments as jupyter notebooks. This document is a jupyter notebook. So if you are seeing this you have already done some things right!\n",
    "\n",
    "Notebooks allow us to combine text, images, and properly formatted code examples in the same document. Here's a code example:\n",
    "```\n",
    "for i in range(10):\n",
    "    print(\"All work and no play makes Jack a dull boy.\")\n",
    "```\n",
    "The real power of notebooks, however, is that we can include *live* code along with the *ouput* of that code inside our notebook.\n",
    "\n",
    "Select the cell below, which contains the same code as our example, and click the `Run` button in the toolbar above. "
   ]
  },
  {
   "cell_type": "code",
   "execution_count": null,
   "metadata": {
    "deletable": false,
    "editable": false
   },
   "outputs": [],
   "source": [
    "for i in range(10):\n",
    "    print(\"All work and no play makes Jack a dull boy.\")"
   ]
  },
  {
   "cell_type": "markdown",
   "metadata": {
    "deletable": false
   },
   "source": [
    "See how that works?\n",
    "\n",
    "Since we can run code within these notebooks, we can use them to give you coding tasks, just like in the tutorial you completed. For example the code below is broken and will not run in python. Click the Run button and you will get an error message. Now try to fix the code so that it prints the message \"Hello Jupyter notebooks!\" and click the Run button once you finished. Keep clicking until you get the correct output."
   ]
  },
  {
   "cell_type": "code",
   "execution_count": null,
   "metadata": {
    "deletable": false
   },
   "outputs": [],
   "source": [
    "print('Hello Jupyter notebooks!')"
   ]
  },
  {
   "cell_type": "markdown",
   "metadata": {
    "deletable": false,
    "editable": false
   },
   "source": [
    "We can use notebooks to give you assignments and check your work. In the example below, we might have asked you to write a function to compare a list of items and return the largest value in the list. For this example, you can just delete the # symbols (making sure to leave the code properly indented), which will \"complete\" the function, then click the `Run` button above"
   ]
  },
  {
   "cell_type": "code",
   "execution_count": null,
   "metadata": {
    "deletable": false
   },
   "outputs": [],
   "source": [
    "def largest_item(items):\n",
    "    largest = []\n",
    "    largest = max(items)\n",
    "    return largest"
   ]
  },
  {
   "cell_type": "markdown",
   "metadata": {
    "deletable": false,
    "editable": false
   },
   "source": [
    "In a real example we wouldn't have given you the body code of the function, you would have had to come up with that on your own. \n",
    "\n",
    "Furthermore, nothing happened when you ran the code, because all your code did was define a function. So how do you know if your function is correct? Python  gives us a way to check our work. The code below will test your function by using data for which we know the correct answer. These are called asserts. If your function gives an answer other than what has been *asserted* to be correct, the code will return an error. If there is no error, the code will continue to run, and in this case will give us the congratulations message. Go ahead and run the code block below."
   ]
  },
  {
   "cell_type": "code",
   "execution_count": null,
   "metadata": {
    "deletable": false,
    "editable": false
   },
   "outputs": [],
   "source": [
    "test_data_1 = [1,2,3,4,18,6,7]\n",
    "test_data_2 = [25,19,20,21,22,23,24]\n",
    "assert largest_item(test_data_1) == 18\n",
    "assert largest_item(test_data_2) == 25\n",
    "print(\"Congratulations, your function worked!\")"
   ]
  },
  {
   "cell_type": "markdown",
   "metadata": {
    "deletable": false,
    "editable": false
   },
   "source": [
    "If you have any questions about the content of this assignment, make sure to post them in the discussion boards!"
   ]
  }
 ],
 "metadata": {
  "kernelspec": {
   "display_name": "Python 3",
   "language": "python",
   "name": "python3"
  },
  "language_info": {
   "codemirror_mode": {
    "name": "ipython",
    "version": 3
   },
   "file_extension": ".py",
   "mimetype": "text/x-python",
   "name": "python",
   "nbconvert_exporter": "python",
   "pygments_lexer": "ipython3",
   "version": "3.6.4"
  }
 },
 "nbformat": 4,
 "nbformat_minor": 2
}
