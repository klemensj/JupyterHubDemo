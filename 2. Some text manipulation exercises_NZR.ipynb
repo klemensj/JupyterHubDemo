{
 "cells": [
  {
   "cell_type": "markdown",
   "metadata": {},
   "source": [
    "<div align =\"right\">Thomas Jefferson University **COMP 101**: Coding for beginners</div>"
   ]
  },
  {
   "cell_type": "markdown",
   "metadata": {
    "deletable": false,
    "editable": false
   },
   "source": [
    "# Some Text Manipulation Exercises\n",
    "\n",
    "For the exercises that follow we will work by completing the function. You learned about functions in part 3 of the solo learn tutorial. Only manipulate the section of code that is commented out. Once your function will run without syntax errors, run the testing block that follows it to test that the function does what it is supposed to do. Note that if the answer is asking for a text string, your function does not need to `print` the text string (although you might want to do that while you are testing the function). Rather it needs to `return` the text string as the result of the function. "
   ]
  },
  {
   "cell_type": "markdown",
   "metadata": {
    "deletable": false,
    "editable": false
   },
   "source": [
    "## 1. Creating a text string\n",
    "\n",
    "For this exercise, you will write a function that adds components to a text string. We will pass the function two pieces of information - the name of an element and its atomic number - and `return` the answer as a correctly formatted statement that appears exactly like this: \"The atomic number of Oxygen is 16.\" Remember to `run` the function before you run the testing code."
   ]
  },
  {
   "cell_type": "code",
   "execution_count": null,
   "metadata": {},
   "outputs": [],
   "source": [
    "def atomic_number_sentence(element, atomic_number):   #the function that we will define, don't change this line!\n",
    "    \n",
    "    mystr = \"The atomic number of \" + element + \" is \"+ str(atomic_number) + \".\"\n",
    "    print (mystr)\n",
    "    \n",
    "    return mystr #what you are returning"
   ]
  },
  {
   "cell_type": "code",
   "execution_count": null,
   "metadata": {
    "deletable": false,
    "editable": false
   },
   "outputs": [],
   "source": [
    "###This is the Testing block, don't change any of this text\n",
    "assert atomic_number_sentence(\"Nitrogen\", 14) == \"The atomic number of Nitrogen is 14.\", \"Text does not match\"\n",
    "assert atomic_number_sentence(\"Hydrogen\", 1) == \"The atomic number of Hydrogen is 1.\", \"Text does not match\"\n",
    "print(\"Congratulations, your function worked!\")"
   ]
  },
  {
   "cell_type": "markdown",
   "metadata": {
    "deletable": false,
    "editable": false
   },
   "source": [
    "## 2. Pulling individual words out of a text string\n",
    "\n",
    "Pull the first word from each text string. You should strip away any punctuation or extraneous spaces and return the first word that occurs in the string. Ignore punctuation, but recall that words can contain punctuation in the form of an apostrophes, e.g. don't, can't, won't. "
   ]
  },
  {
   "cell_type": "code",
   "execution_count": null,
   "metadata": {},
   "outputs": [],
   "source": [
    "def first_word_finder(text_for_first_word):\n",
    "    first_word = \"\" # first thing the function does is to make sure the variable we are using to store the first word is empty, and not holding data from an old run or different function, this is good programming practice\n",
    "    \n",
    "    list = text_for_first_word.split() #converting secret_message_text into a list\n",
    "    print (list) #just to make sure my list is proper\n",
    "    \n",
    "    for word in list:\n",
    "        print (word) #check my current word\n",
    "        \n",
    "        for i in range(len(word)): #loop through every letter in the word\n",
    "            if word[i].isalpha() or word[i] == \"'\": #only consider letters and \"'\"\n",
    "                first_word = first_word + word[i] #build the word one letter at a time\n",
    "                print (\"This is painful!\")\n",
    "\n",
    "        if first_word != \"\": #The previous loop should produce a string from the first word. If it did, break out \n",
    "                             # of the first for loop. If not, try the next word.\n",
    "            break\n",
    "    print (first_word) #check my work\n",
    "\n",
    "    return first_word"
   ]
  },
  {
   "cell_type": "code",
   "execution_count": null,
   "metadata": {
    "deletable": false,
    "editable": false
   },
   "outputs": [],
   "source": [
    "###This is the Testing block, don't change any of this text\n",
    "assert first_word_finder(\"Hi there!\") == \"Hi\", \"fails basic test\"\n",
    "assert first_word_finder(\"¡Hola! ¿Como le va?\") == \"Hola\", \"Did not strip leading punctuation\"\n",
    "assert first_word_finder(\"It's a boy!\") == \"It's\", \"Should allow contractions\"\n",
    "assert first_word_finder(\"    Hello?\") == \"Hello\", \"Did not strip leading spaces\"\n",
    "assert first_word_finder(\". . . Is anybody out there?\") == \"Is\", \"complex leading spaces and punctuation\"\n",
    "\n",
    "print(\"Congratulations, your function worked!\")"
   ]
  },
  {
   "cell_type": "markdown",
   "metadata": {
    "deletable": false,
    "editable": false
   },
   "source": [
    "## 3. Pulling and concatenating elements from a text string\n",
    "\n",
    "Pull the first letter from each word in a text string to reveal a secret message! Your function should take the first letter of each word in a text and return the secret message."
   ]
  },
  {
   "cell_type": "markdown",
   "metadata": {
    "deletable": false,
    "editable": false
   },
   "source": [
    "### HINT \n",
    "Look up the python string method `split()` which can be used to break a string down into its component parts based on some delimiter (a space, a comma) specified by the user. These parts will effectively be a `list` of smaller strings. String methods are discussed in the \"Into the Unknown\" article. You can use a process similar to what we did in the item above to walk through each of the items in the list. You may want to look up how to walk through items in a list using a `for` loop. That would be a good thing to share to the discussion board. Then you can find the first \"letter\" in each item in the list using `isalpha()`. If no letters present in an item (\"...\" for example) do nothing. "
   ]
  },
  {
   "cell_type": "code",
   "execution_count": null,
   "metadata": {},
   "outputs": [],
   "source": [
    "def secret_message_finder(secret_message_text):\n",
    "    secret_message = \"\" # first thing the function does is to make sure the variable we are using to store the first word is empty, and not holding data from an old run or different function, this is good programming practice\n",
    " \n",
    "    list = secret_message_text.split() #converting secret_message_text into a list\n",
    "    print (list) #just to make sure my list is proper\n",
    "    \n",
    "    for word in list:\n",
    "        #print (word) #check my current word\n",
    "        \n",
    "        for i in range(len(word)): #loop through every letter in the word\n",
    "            if word[i].isalpha(): #only consider letters. If there is no letter, skip the word.\n",
    "                secret_message = secret_message + word[i] #grab the first letter\n",
    "                break #skip the rest of the loop. I am done here\n",
    "            print (\"this is not nice!\")\n",
    "        print (secret_message) #check my work\n",
    "\n",
    "    return secret_message"
   ]
  },
  {
   "cell_type": "code",
   "execution_count": null,
   "metadata": {
    "deletable": false,
    "editable": false
   },
   "outputs": [],
   "source": [
    "###This is the Testing block, don't change any of this text\n",
    "assert secret_message_finder(\"Hey everybody larry loves olga\") == \"Hello\", \"fails basic test\"\n",
    "assert secret_message_finder(\"But it's only left over goose yogurt?\") == \"Biology\", \"internal punctuation\"\n",
    "assert secret_message_finder(\"... cookies over dimes, icecream needs granola\") == \"coding\", \"complex start\"\n",
    "print(\"Congratulations, your function worked!\")"
   ]
  },
  {
   "cell_type": "markdown",
   "metadata": {
    "deletable": false,
    "editable": false
   },
   "source": [
    "## 4. Standardizing a text string\n",
    "\n",
    "An important task when working with text is to standardize a text input. In this example, you will be asked to take in a species name and correct it to a standard format. Recall that genus species names are correctly written with the name of the genus capitalized, and the name of the species in lowercase. Furthermore, the name of the naming authority, when included, should follow the name in parentheses, like this:\n",
    "\n",
    "    \"Canis lupus (Linnaeus)\" \n",
    "    \"Albuca caudata (Jacquin)\"\n",
    "    \n",
    "Your function will take in a reference to a species and check to see if it is in the correct form in terms of capitalization. If it isn't, you will correct it by reformatting the text or adding any missing elements. If no authority is given, your code should just `return` the genus species name."
   ]
  },
  {
   "cell_type": "markdown",
   "metadata": {
    "deletable": false,
    "editable": false
   },
   "source": [
    "### HINT \n",
    "Assume that your text string will come in as three distinct words, which means that you can use the `split()` method as above. Look in the string methods for tools that will allow you to check and implement capitalization. \n"
   ]
  },
  {
   "cell_type": "code",
   "execution_count": null,
   "metadata": {},
   "outputs": [],
   "source": [
    "def species_formatter(species_text):   #the function that we will define, don't change this line!\n",
    " #   print (\"This code takes a lot of googling!!!!\")\n",
    "    \n",
    "    formatted_text = \"\"\n",
    "    word1 = \"\"\n",
    "    word2 = \"\"\n",
    "    word3 = \"\"\n",
    "    \n",
    "    mylist = species_text.split() #split into words. I assume there are always three words here.\n",
    "    word1 = mylist[0].capitalize() #this function capitalize the first letter of the word\n",
    "                                    # the first character MUST BE a letter for it to work\n",
    "    word2 = mylist[1].lower()     #this function changes all letters to lower case\n",
    "    \n",
    "    formatted_text = word1 + \" \" + word2 #only need two words to return a value\n",
    "    \n",
    "    if len(mylist) == 3: #if there is a 3rd word\n",
    "        tmp = mylist[2] #put the word in a place holder \n",
    "        s1 = 0          #anticipating parenthesis locations to be first and last\n",
    "        s2 = len(tmp)-1 \n",
    "        \n",
    "  #      print (s1, s2) #debugging code. I like print a lot.\n",
    "        \n",
    "        if tmp[0] == \"(\": #testing for parenthesis, if \"(\" is found, move the location of the first letter to be\n",
    "                            #the next letter\n",
    "            s1 = 1\n",
    "            \n",
    "        if tmp[s2] != \")\": #testing for \")\" as the last character\n",
    "            s2 = s2+1      \n",
    "        word3 = tmp[s1:s2].capitalize() #extract substrings out of 3rd word. The string location starts at s1, \n",
    "                                        #go up to, BUT NOT INCLUDING, s2. Hence the +1\n",
    "                                        # I am also avoiding elif here. \n",
    "    \n",
    " #       print (word1,word2,word3)   #again, check my work\n",
    "    \n",
    "        formatted_text = formatted_text + \" (\" + word3 +\")\" #add the 3rd word to the return string\n",
    "        \n",
    "    print (formatted_text) #check my final return string\n",
    "\n",
    "\n",
    "    return formatted_text #what you are returning"
   ]
  },
  {
   "cell_type": "code",
   "execution_count": null,
   "metadata": {
    "deletable": false,
    "editable": false
   },
   "outputs": [],
   "source": [
    "###This is the Testing block, don't change any of this text\n",
    "assert species_formatter(\"Homo sapiens (Linnaeus)\") == \"Homo sapiens (Linnaeus)\", \"The input text was already correct, your code changed something that didn't need changed\"\n",
    "assert species_formatter(\"Canis lupus\") == \"Canis lupus\", \"If no authority, leave it off\"\n",
    "assert species_formatter(\"canis lupus (Linnaeus)\") == \"Canis lupus (Linnaeus)\", \"Didn't capitalize Genus\"\n",
    "assert species_formatter(\"Canis Lupus (Linnaeus)\") == \"Canis lupus (Linnaeus)\", \"Didn't lowercase species\"\n",
    "assert species_formatter(\"CANIS LUPUS (LINNAEUS)\") == \"Canis lupus (Linnaeus)\", \"Didn't lowercase rest of text\"\n",
    "assert species_formatter(\"Albuca caudata Jacquin\") == \"Albuca caudata (Jacquin)\", \"Didn't add missing parentheses\"\n",
    "print(\"Congratulations, your function worked!\")"
   ]
  },
  {
   "cell_type": "markdown",
   "metadata": {
    "deletable": false,
    "editable": false
   },
   "source": [
    "## 5. Between the codons\n",
    "\n",
    "An important thing that we will need to be able to do to work with bioinformatics data is to find particular items in text. In this example, we will write a function that finds the text that occurs between two markers that will represent a start and a stop codon. In FASTA format, proteins are coded using single letter codes. Your function should take a FASTA sequence and remove anything from outside the code to give us just the sequence of amino acids that will result. Your input for the function will be a string of codons derived from an mRNA sequence. It will return the sequence of amino acids that will result from this mRNA sequence. This means that it should return just the sequence that occurs following (but including) the first appearance of the Methionine codon (represented by the letter \"M\") and stop before (not including) the first occurrence of a stop codon (represented by \"*\"). \n",
    "\n",
    "If there is no sequence within the data that is located between a start and a stop codon, your function should return nothing. \n"
   ]
  },
  {
   "cell_type": "code",
   "execution_count": null,
   "metadata": {},
   "outputs": [],
   "source": [
    "def FASTA_trimmer(FASTA_sequence):   #the function that we will define, don't change this line!\n",
    "    AA_sequence = \"\"  # make sure target sequence is blank to start\n",
    "    AA_sequence = \"\"  # make sure target sequence is blank to start\n",
    "    \n",
    "    tmp = FASTA_sequence\n",
    "    istart = 0\n",
    "    istop = len(tmp)\n",
    "    \n",
    "    istart = tmp.find('M')\n",
    "    istop = tmp.rfind('*')\n",
    "    print (istart, istop)\n",
    "    \n",
    "      \n",
    "    if istart < 0:\n",
    "        print (\"No start codon\")\n",
    "    elif istart > istop:\n",
    "        print (\"Not ordered correctly\")\n",
    "    else:\n",
    "        AA_sequence = tmp[istart:istop]\n",
    "    \n",
    "    if istop == len(tmp):\n",
    "        print (\"no stop codon\")\n",
    "        \n",
    "    return AA_sequence"
   ]
  },
  {
   "cell_type": "code",
   "execution_count": null,
   "metadata": {
    "deletable": false,
    "editable": false
   },
   "outputs": [],
   "source": [
    "assert FASTA_trimmer(\"AGRTMYAEEDGDDGA*EEG\") == \"MYAEEDGDDGA\", \"Fails basic test\"\n",
    "assert FASTA_trimmer(\"AGRTMYAEEDGDDGA*EEG\") == \"MYAEEDGDDGA\", \"Can't handle stop codon before start\"\n",
    "assert FASTA_trimmer(\"AGMRTMYAEEDGDDGA*EEG\") == \"MRTMYAEEDGDDGA\", \"Can't handle methionine post start\"\n",
    "assert FASTA_trimmer(\"AGRTEYAEEDGDDGA*EEG\") == \"\", \"No start codon\"\n",
    "assert FASTA_trimmer(\"AGRT*YAEEDGDDGAMEEG\") == \"\", \"Not ordered correctly\""
   ]
  },
  {
   "cell_type": "code",
   "execution_count": null,
   "metadata": {},
   "outputs": [],
   "source": []
  }
 ],
 "metadata": {
  "kernelspec": {
   "display_name": "Python 3",
   "language": "python",
   "name": "python3"
  },
  "language_info": {
   "codemirror_mode": {
    "name": "ipython",
    "version": 3
   },
   "file_extension": ".py",
   "mimetype": "text/x-python",
   "name": "python",
   "nbconvert_exporter": "python",
   "pygments_lexer": "ipython3",
   "version": "3.6.4"
  }
 },
 "nbformat": 4,
 "nbformat_minor": 2
}
