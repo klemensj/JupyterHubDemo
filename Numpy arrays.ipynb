{
 "cells": [
  {
   "cell_type": "markdown",
   "metadata": {},
   "source": [
    "<div align =\"right\">Thomas Jefferson University **COMP 102**: Intro to Scientific Computing</div>"
   ]
  },
  {
   "cell_type": "markdown",
   "metadata": {},
   "source": [
    "## Data structures with numpy\n",
    "\n",
    "In this worksheet we will work on creating data structures with numpy. Oftentimes when we are doing scientific computing one of our biggest challenges has to do with working with the data set we are given. That can mean lots of different things. Arranging data, summarizing data, dealing with incomplete observations. But before we can do any of that, we have to get our data into some kind of structure. \n",
    "\n",
    "Numpy (The name comes from **Num**eric **py**thon) is a library for python that contains many powerful functions for working with data. The principal data structure we will deploy is a structure called a **numpy array**.\n",
    "\n",
    "To work with any python library, we first need to import that library into our workspace. This allows us to access any functions or other elements contained within that library as if we defined them ourselves as part of our python script."
   ]
  },
  {
   "cell_type": "code",
   "execution_count": null,
   "metadata": {},
   "outputs": [],
   "source": [
    "import numpy as np"
   ]
  },
  {
   "cell_type": "markdown",
   "metadata": {},
   "source": [
    "Once you have run the code above, we will have access to numpy's functions. Note that we created a shorthand for the function - so we can refer to it as np, and can call any function contained within the library by using a command of the form: \n",
    "``` \n",
    "np.function_name()\n",
    "```\n",
    "In the command below, we will use the numpy function `zeros()` to create an empty numpy array with a single dimension. This array will hold five pieces of data which the function will fill with zeros."
   ]
  },
  {
   "cell_type": "code",
   "execution_count": null,
   "metadata": {},
   "outputs": [],
   "source": [
    "v = np.zeros(5)\n",
    "print(v) "
   ]
  },
  {
   "cell_type": "markdown",
   "metadata": {},
   "source": [
    "Note that numpy is fundamentally a system for holding and performing mathematical operations on numerical data, so the data added to a numpy array will be set to the type `float64` by default. Note that the function can be indexed just like a list. We can change the values in the array by assigning a value to a position in the array designated by its index."
   ]
  },
  {
   "cell_type": "code",
   "execution_count": null,
   "metadata": {},
   "outputs": [],
   "source": [
    "print(type(v[0]))      # Figure out and report what the data type of each element is\n",
    "\n",
    "v[0]=6.5               # Substitute a different value for the first item in the array\n",
    "print(v)\n"
   ]
  },
  {
   "cell_type": "code",
   "execution_count": null,
   "metadata": {},
   "outputs": [],
   "source": [
    "v[3]= \"banana\"  "
   ]
  },
  {
   "cell_type": "markdown",
   "metadata": {},
   "source": [
    "Try running the code above - unlike a list, if we add different kinds of data to a numpy array we will get an error. \n",
    "\n",
    "The following code uses a new numpy function, `ones` , the output should not surprise you. "
   ]
  },
  {
   "cell_type": "code",
   "execution_count": null,
   "metadata": {},
   "outputs": [],
   "source": [
    "w = np.ones(6)\n",
    "print(w)"
   ]
  },
  {
   "cell_type": "markdown",
   "metadata": {},
   "source": [
    "We can also use the numpy function `array` in a couple of different ways. First, we can use it to define an array manually by putting square brackets, as if we were defining a list, inside the parentheses of the numpy function:\n",
    "\n",
    "\n",
    "Numpy arrays can be defined with more than one dimension.    to create a one dimensional array (which you might call a matrix)"
   ]
  },
  {
   "cell_type": "code",
   "execution_count": null,
   "metadata": {},
   "outputs": [],
   "source": [
    "manual_array = np.array([1.735, 3.14, 2.89, 7.5])\n",
    "print(manual_array)"
   ]
  },
  {
   "cell_type": "markdown",
   "metadata": {},
   "source": [
    "Likewise, we can convert a `list` to a numpy array by using it as the input to the `array` function. "
   ]
  },
  {
   "cell_type": "code",
   "execution_count": null,
   "metadata": {},
   "outputs": [],
   "source": [
    "list_to_convert = [42.3, 74.1, 89.3, 100.2]\n",
    "print(type(list_to_convert))                   \n",
    "\n",
    "converted_list = np.array(list_to_convert)\n",
    "print(type(converted_list))"
   ]
  },
  {
   "cell_type": "markdown",
   "metadata": {},
   "source": [
    "Numpy arrays have certain characteristics that allow them to be useful for data manipulation. One of them is that every numpy array has an attribute known as `shape`. We have already used shapes. When we defined our intial numpy array above, we told numpy to create an array with shape 5. "
   ]
  },
  {
   "cell_type": "code",
   "execution_count": null,
   "metadata": {},
   "outputs": [],
   "source": [
    "print(v.shape)"
   ]
  },
  {
   "cell_type": "markdown",
   "metadata": {},
   "source": [
    "This notation means that the shape of the array is one dimensional, with a length of five. We can also use the `shape` command to change the shape of a data structure. "
   ]
  },
  {
   "cell_type": "code",
   "execution_count": null,
   "metadata": {},
   "outputs": [],
   "source": [
    "x = np.ones(24)\n",
    "print(\"old shape \" + str(x.shape))   # report the shape\n",
    "print(x)\n",
    "\n",
    "x.shape = (4,6)                      # now let's change the shape\n",
    "print(\"new shape \" + str(x.shape))   # report the new shape\n",
    "print(x)"
   ]
  },
  {
   "cell_type": "markdown",
   "metadata": {},
   "source": [
    "We can also use the shape function when we define the function in the first place, just note that for any array with more than one diemension the shape specfication must be enclosed in parentheses, even within the call to the array making function (`ones` in this case)\n",
    "Also, when we index data, we now need to use both dimensions in the specification of which datapoint we are talking about. "
   ]
  },
  {
   "cell_type": "code",
   "execution_count": null,
   "metadata": {},
   "outputs": [],
   "source": [
    "w = np.ones((6,6))\n",
    "print(\"original array\")\n",
    "print(w)\n",
    "\n",
    "w[0,0] = 0\n",
    "w[5,5] = 8\n",
    "print(\"array with substitutions\")\n",
    "print(w)"
   ]
  },
  {
   "cell_type": "markdown",
   "metadata": {},
   "source": [
    "Just like a list, the indices of an array will count from 0, so an array of length 6 will consist of positions 0 through 5. "
   ]
  },
  {
   "cell_type": "markdown",
   "metadata": {},
   "source": [
    "Show some out of bounds error and intrepret the IndexError statement  - note there is axis 1 and axis 0 in a 2 dimensional array. \n",
    "\n",
    "There ar 6 spaces in the x array. We're trying to change it to a 2x4 array, which means there should be 8 spaces. Doesn't work. Let's change it to a 2x3 array instead."
   ]
  },
  {
   "cell_type": "code",
   "execution_count": null,
   "metadata": {},
   "outputs": [],
   "source": [
    "w.shape = (4,4)    # change to numbers that are bigger, do the numbers of rows and columns have to exactly match data."
   ]
  },
  {
   "cell_type": "code",
   "execution_count": null,
   "metadata": {},
   "outputs": [],
   "source": [
    "w[3,6]\n"
   ]
  },
  {
   "cell_type": "code",
   "execution_count": null,
   "metadata": {},
   "outputs": [],
   "source": [
    "z = np.linspace(0,100,21)\n",
    "z"
   ]
  },
  {
   "cell_type": "markdown",
   "metadata": {},
   "source": [
    "linspace = linear spaced. The variables in the array are spaced out linearly. "
   ]
  },
  {
   "cell_type": "code",
   "execution_count": null,
   "metadata": {},
   "outputs": [],
   "source": [
    "z."
   ]
  },
  {
   "cell_type": "markdown",
   "metadata": {},
   "source": [
    "Importing data from an external file directly into a numpy array. "
   ]
  },
  {
   "cell_type": "code",
   "execution_count": null,
   "metadata": {},
   "outputs": [],
   "source": []
  }
 ],
 "metadata": {
  "kernelspec": {
   "display_name": "Python 3",
   "language": "python",
   "name": "python3"
  },
  "language_info": {
   "codemirror_mode": {
    "name": "ipython",
    "version": 3
   },
   "file_extension": ".py",
   "mimetype": "text/x-python",
   "name": "python",
   "nbconvert_exporter": "python",
   "pygments_lexer": "ipython3",
   "version": "3.6.4"
  }
 },
 "nbformat": 4,
 "nbformat_minor": 2
}
