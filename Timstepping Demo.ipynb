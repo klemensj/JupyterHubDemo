{
 "cells": [
  {
   "cell_type": "markdown",
   "metadata": {},
   "source": [
    "# Timestepping Demo (Mass on a spring with damping)\n",
    "## Introduction\n",
    "In this demo, we will consider a mass on a horizontal surface attached to a spring. We will give the mass an initial position and velocity, then we will let Newton's Laws and Calculus do the rest. In class, we learned that the mass will oscillate about the spring's equilibrium point, but realistically, we expect the oscillation to evenually diminish due to friction between the mass and the floor. In this demo, we will include friction by choosing a value for $\\mu_k$.\n",
    "\n",
    "The forces acting on the mass in the horizontal are:  \n",
    "&nbsp;&nbsp;&nbsp;&nbsp; the spring force = $Fsp = -k x$, and  \n",
    "&nbsp;&nbsp;&nbsp;&nbsp; the friction force = $Fk = \\mu_k m g \\hat{v}$,  \n",
    "where  \n",
    "&nbsp;&nbsp;&nbsp;&nbsp; $k$ = the spring constant,  \n",
    "&nbsp;&nbsp;&nbsp;&nbsp; $x$ = the horizontal distance from the equilibrium point of the spring,  \n",
    "&nbsp;&nbsp;&nbsp;&nbsp; $\\mu_k$ = the coefficient of kinetic friction,  \n",
    "&nbsp;&nbsp;&nbsp;&nbsp; $m$ = mass,  \n",
    "&nbsp;&nbsp;&nbsp;&nbsp; $g$ = free-fall acceleration = 9.80 m/s$^2$,  \n",
    "&nbsp;&nbsp;&nbsp;&nbsp; $\\hat{v}$ = the unit velocity vector (note that $-\\hat{v}$ opposes the motion).\n",
    "\n",
    "## Setup\n",
    "As usual, we first import the tools we plan to use."
   ]
  },
  {
   "cell_type": "code",
   "execution_count": 30,
   "metadata": {},
   "outputs": [],
   "source": [
    "import numpy as np                  # For NumPy arrays and pi.\n",
    "import matplotlib.pyplot as plot    # For creating plots of our data."
   ]
  },
  {
   "cell_type": "markdown",
   "metadata": {},
   "source": [
    "Next, we set some basic variables like $m$ and $k$. We also decide how many points we will plot by setting the $T$ and $dt$."
   ]
  },
  {
   "cell_type": "code",
   "execution_count": 31,
   "metadata": {},
   "outputs": [],
   "source": [
    "dt  = 0.001;   # The timestep.\n",
    "T   = 10.0;    # The final time value\n",
    "m   = 5.0;     # The mass\n",
    "k   = 250.0;   # The spring constant\n",
    "muk = 0.01;    # The coefficient of kinetic friction.\n",
    "x0  = 0.05;    # The initial position.\n",
    "v0  = 0.0;     # The initial velocity.\n",
    "g   = 9.80;    # The free-fall acceleration. (Go ahead, mess with gravity.)"
   ]
  },
  {
   "cell_type": "markdown",
   "metadata": {},
   "source": [
    "We need to keep track of $x$ and $v$ of the mass as time marches along. To do this, we will create some arrays. To start, we will just fill these arrays with zeros, but as we let the system evolve, we will replace the zeros with our results. These arrays will be named with an 'arr' at the end so that we know it is an array."
   ]
  },
  {
   "cell_type": "code",
   "execution_count": 32,
   "metadata": {},
   "outputs": [],
   "source": [
    "tarr = np.arange(0.0, T + dt, dt) # The time at each step.\n",
    "N    = tarr.size         # This is the number of timesteps we will perform.\n",
    "xarr = np.zeros(N)       # Position values at each timestep (set to 0 for now).\n",
    "varr = np.zeros(N)       # Velocity values at each timestep (set to 0 for now).\n",
    "Earr = np.zeros(N)       # Energy values at each timestep (set to 0 for now)."
   ]
  },
  {
   "cell_type": "markdown",
   "metadata": {},
   "source": [
    "## Timestepping\n",
    "In this section, we will start with the initial values, $x_0$ and $v_0$, and let the spring and friction forces act for a very small time $dt$. This will produce a new set of $x$ and $v$ values. Then, we will let the forces act again for another timestep and so on until we know $x$ and $v$ at the final time $T$.\n",
    "\n",
    "Newton's Second Law for this system is $ma = -kx - \\mu_k m g \\hat{v}$. This is not the most convenient form for us. Instead, we will split the equation into two parts:  \n",
    "&nbsp;&nbsp;&nbsp;&nbsp; $dx/dt = v$  \n",
    "&nbsp;&nbsp;&nbsp;&nbsp; $dv/dt = -(k/m)*x - \\mu_k g \\hat{v}.$  \n",
    "Note that this is identical to Newton's Second Law. The main difference is that we can now multiply by $dt$:  \n",
    "&nbsp;&nbsp;&nbsp;&nbsp; $dx = v\\,dt$  \n",
    "&nbsp;&nbsp;&nbsp;&nbsp; $dv = (-(k/m) x - \\mu_k g \\hat{v}) dt$.  \n",
    "This tells us how $x$ and $v$ change each time we advance by $dt$. So, if we have an initial $x$ and $v$, and we compute $dx$ and $dv$, then the new values of $x$ and $v$ are simply $x+dx$ and $v+dv$.\n",
    "\n",
    "Remember, $dt$ **MUST** be small. Technically $dt$ is a differential, meaning it must be infinitesimally small if our timestepping scheme is going to produce an exact solution. When we let the system evolve on the computer, we are not after the exact solution, just an approximate solution. So just keep $dt$ small. How small?? Well, that's an interesting question thast we will discuss in class. So for now, let's just say small. If the mass's position becomes unphysically large, then you probably need to reduce your $dt$ and try again.\n",
    "\n",
    "We do not want to perform this calculation by hand thousands of times until we arrive at our final time, so we will let the computer do it for us. We do this with someting called a for-loop. It works like this, suppose we want to add up all numbers between 1 and 10. The long way to do this is by adding every number explicitly:  \n",
    "```\n",
    "sum = 0        # Start with nothing  \n",
    "sum = sum + 1  # Add the first number, 1.  \n",
    "sum = sum + 2  # Add the next number, 2.  \n",
    "sum = sum + 3  # Add the next number, 3.  \n",
    "sum = sum + 4  # Add the next number, 4.  \n",
    "sum = sum + 5  # Add the next number, 5.  \n",
    "sum = sum + 6  # Add the next number, 6.  \n",
    "sum = sum + 7  # Add the next number, 7.  \n",
    "sum = sum + 8  # Add the next number, 8.  \n",
    "sum = sum + 9  # Add the next number, 9.  \n",
    "sum = sum + 1; # Add the last number, 10.  \n",
    "```\n",
    "Now, if you check, sum will equal 55, the correct value. This is a pain. Instead, we could have done this with a for-loop: \n",
    "```\n",
    "sum = 0;             # Start with nothing.\n",
    "for i = range(1,11): # Let i start with 1 and stop before reaching 11.\n",
    "    sum = sum + i    # Add the current value of i.\n",
    "```\n",
    "Now, if you check, sum will again equal 55. This is much easier. And this for-loop is how we will let the computer add all $N$ increments $dx$ and $dv$.\n",
    "\n",
    "Okay, here we go! Let's begin at $t=0$. We will compute some things we will need and store the $x$ and $v$ values in the first element of the `xarr` and `varr` arrays. Additionally, we will keep track of the energy in the `Earr` array."
   ]
  },
  {
   "cell_type": "code",
   "execution_count": 33,
   "metadata": {},
   "outputs": [],
   "source": [
    "x = x0\n",
    "v = v0\n",
    "vhat = np.sign(v)\n",
    "xarr[0] = x\n",
    "varr[0] = v\n",
    "Earr[0] = 0.5*m*v**2 + 0.5*k*x**2"
   ]
  },
  {
   "cell_type": "markdown",
   "metadata": {},
   "source": [
    "Next, we will use a for-loop to find the area of each rectangle (integrate $F(t)/m$ from $0$ to $T$)."
   ]
  },
  {
   "cell_type": "code",
   "execution_count": 34,
   "metadata": {},
   "outputs": [],
   "source": [
    "for i in range(1,N):\n",
    "    # Compute the increments.\n",
    "    vhat = np.sign(v)\n",
    "    dx = v*dt\n",
    "    dv = (-(k/m)*x - muk*g*vhat)*dt\n",
    "    \n",
    "    # Update the current position and velocity. \n",
    "    x = x + dx\n",
    "    v = v + dv\n",
    "      \n",
    "    # Put the results into the arrays\n",
    "    xarr[i] = x\n",
    "    varr[i] = v\n",
    "    Earr[i] = 0.5*m*v**2 + 0.5*k*x**2"
   ]
  },
  {
   "cell_type": "markdown",
   "metadata": {},
   "source": [
    "## Plotting the results\n",
    "Finally, we use python to create 3 plots: $x-t$, $v-t$, and $E-t$."
   ]
  },
  {
   "cell_type": "code",
   "execution_count": 35,
   "metadata": {},
   "outputs": [
    {
     "data": {
      "image/png": "[encoded data removed]",
      "text/plain": [
       "<Figure size 432x288 with 3 Axes>"
      ]
     },
     "metadata": {
      "needs_background": "light"
     },
     "output_type": "display_data"
    }
   ],
   "source": [
    "plot.rc('text', usetex=False)\n",
    "plot.rc('font', family='serif')\n",
    "\n",
    "fig = plot.figure()\n",
    "\n",
    "f1 = plot.subplot(311)\n",
    "plot.plot(tarr, xarr, color=(0.6, 0, 1.0))\n",
    "ax = plot.gca()\n",
    "ax.grid()\n",
    "ax.set_ylabel(\"x (m)\")\n",
    "ax.set_xlabel(\"t (s)\")\n",
    " \n",
    "f2 = plot.subplot(312)\n",
    "plot.plot(tarr, varr, color=(0.0, 0.6, 1.0))\n",
    "ax = plot.gca()\n",
    "ax.grid()\n",
    "ax.set_ylabel(\"v (m/s)\")\n",
    "ax.set_xlabel(\"t (s)\")\n",
    "\n",
    "f3 = plot.subplot(313)\n",
    "plot.plot(tarr, Earr, color=(0.6, 1.0, 0.6))\n",
    "ax = plot.gca()\n",
    "ax.grid()\n",
    "ax.set_ylabel(\"E (J)\")\n",
    "ax.set_xlabel(\"t (s)\")\n",
    " \n",
    "plot.tight_layout()\n",
    "plot.show()\n",
    "fig.savefig(\"mass_spring_plots.png\", dpi=300)"
   ]
  },
  {
   "cell_type": "markdown",
   "metadata": {},
   "source": [
    "## Final notes\n",
    "Try running this with $\\mu_k = 0$. In theory, your energy should be constant since you removed the friction. Is that what you see?\n",
    "\n",
    "The timestepping scheme we are using was invented by Euler, so it is called the \"Forward Euler\" timestepping scheme. Unfortunately, it is unstable because it tries to add energy to the system. You can make this unwanted effect smaller by reducing dt (try it!), but it will never go away.\n",
    "\n",
    "Alternatively, you can add some artificial dissipation by increasing $\\mu_k$. If you add just the right amount to muk, you can remove the energy that the Forward Euler scheme added. Many people do this, but there is a better way to fix the problem - use a stable timestepping scheme. There are many, many timestepping schemes out there and many are known to conserve energy. For example, try replacing lines 4 and 5 in the timestepping loop with this:\n",
    "```\n",
    "    xmid = x + v*dt/2\n",
    "    dv = (-(k/m)*xmid - muk*g*vhat)*dt\n",
    "    dx = (v + dv/2) * dt\n",
    "```\n",
    "How does this work?! Well, basically we are doing a better job of finding the area of each rectangle in the Reimann sum by evaluating $F(t)/m$ at the midpoints of each rectangle rather than the left side."
   ]
  },
  {
   "cell_type": "code",
   "execution_count": null,
   "metadata": {},
   "outputs": [],
   "source": []
  }
 ],
 "metadata": {
  "kernelspec": {
   "display_name": "Python 3",
   "language": "python",
   "name": "python3"
  },
  "language_info": {
   "codemirror_mode": {
    "name": "ipython",
    "version": 3
   },
   "file_extension": ".py",
   "mimetype": "text/x-python",
   "name": "python",
   "nbconvert_exporter": "python",
   "pygments_lexer": "ipython3",
   "version": "3.7.1"
  }
 },
 "nbformat": 4,
 "nbformat_minor": 2
}
